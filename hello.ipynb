{
 "cells": [
  {
   "cell_type": "markdown",
   "metadata": {},
   "source": [
    "# my first jupyter notebook\n",
    "\n",
    "**this text is bold**\n",
    " \n",
    "this is regular text"
   ]
  },
  {
   "cell_type": "code",
   "execution_count": 1,
   "metadata": {},
   "outputs": [
    {
     "name": "stdout",
     "output_type": "stream",
     "text": [
      "less decimal places 3.14\n",
      "more decimal places 3.1415900000\n",
      "pad with zeros 00033\n",
      "pad with spaces    33\n",
      "pad and specify decimal places 03.14\n",
      "pad and specify decimal places  3.14\n"
     ]
    }
   ],
   "source": [
    "print( f\"less decimal places { 3.14159 :.2f}\" )\n",
    "print( f\"more decimal places { 3.14159 :.10f}\" )\n",
    "print( f\"pad with zeros { 33 :05}\" )\n",
    "print( f\"pad with spaces { 33 :5}\" )\n",
    "print( f\"pad and specify decimal places { 3.14159 :05.2f}\" )\n",
    "print( f\"pad and specify decimal places { 3.14159 :5.2f}\" )"
   ]
  },
  {
   "cell_type": "code",
   "execution_count": 2,
   "metadata": {},
   "outputs": [
    {
     "name": "stdout",
     "output_type": "stream",
     "text": [
      "|abc                 |                 abc|        abc         |\n",
      "|defghi              |              defghi|       defghi       |\n",
      "|jklmnopqrstu        |        jklmnopqrstu|    jklmnopqrstu    |\n"
     ]
    }
   ],
   "source": [
    "s1, s2, s3 = 'abc', 'defghi', 'jklmnopqrstu'\n",
    "print(f'|{s1:<20}|{s1:>20}|{s1:^20}|')\n",
    "print(f'|{s2:<20}|{s2:>20}|{s2:^20}|')\n",
    "print(f'|{s3:<20}|{s3:>20}|{s3:^20}|')"
   ]
  }
 ],
 "metadata": {
  "kernelspec": {
   "display_name": "Python 3",
   "language": "python",
   "name": "python3"
  },
  "language_info": {
   "codemirror_mode": {
    "name": "ipython",
    "version": 3
   },
   "file_extension": ".py",
   "mimetype": "text/x-python",
   "name": "python",
   "nbconvert_exporter": "python",
   "pygments_lexer": "ipython3",
   "version": "3.11.6"
  }
 },
 "nbformat": 4,
 "nbformat_minor": 2
}
