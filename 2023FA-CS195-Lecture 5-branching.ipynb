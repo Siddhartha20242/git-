{
 "cells": [
  {
   "cell_type": "markdown",
   "metadata": {},
   "source": [
    "# Conditions and branching\n",
    "\n",
    "> <font color='green'>Computer Programming I - Lecture 5</font>\n",
    "\n",
    "---"
   ]
  },
  {
   "cell_type": "markdown",
   "metadata": {},
   "source": [
    "- if-elif-else\n",
    "- boolean operators\n",
    "- boolean algebra\n",
    "- nested code blocks\n",
    "- nested if statements and while loops\n",
    "- while, break, continue\n"
   ]
  },
  {
   "cell_type": "markdown",
   "metadata": {},
   "source": [
    "----\n",
    "### if-then\n",
    "\n",
    "Oftentimes your algorithm will require that you only do something **if** some condition is met.\n",
    "\n",
    "For this we need to use the `if` statement --\n",
    "\n",
    "\n",
    "#### if statement syntax\n",
    "\n",
    "- start with the word `if`\n",
    "- then a space, followed by some condition\n",
    "- followed by a colon and a newline\n",
    "- then add your *indented* code block (things to do if the the condition is `True`)\n",
    "\n",
    "```\n",
    "   [code before if statement]\n",
    "\n",
    "   if [condition] :\n",
    "      [code block]\n",
    "\n",
    "   [code after if statement]\n",
    "```"
   ]
  },
  {
   "cell_type": "code",
   "execution_count": 1,
   "metadata": {},
   "outputs": [],
   "source": [
    "ERROR_MSG_AGE = '''Sorry, you're not old enough.\n",
    "    Please get your parent's permission.'''\n",
    "\n",
    "age = input(\"How old are you?\\n>> \")\n",
    "age = int(age)\n",
    "\n",
    "if age < 13:\n",
    "    print(ERROR_MSG_AGE)"
   ]
  },
  {
   "cell_type": "markdown",
   "metadata": {},
   "source": [
    "Note how similar the `if` statement is to `while`.\n",
    "\n",
    "The difference is that the `if` block of code only executes once if condition is True, whereas `while` will continue to execute its block of code as long as its condition is True."
   ]
  },
  {
   "cell_type": "markdown",
   "metadata": {},
   "source": [
    "----\n",
    "### if-then-else\n",
    "\n",
    "Oftentimes your algorithm will require that you only do something **if** some condition is met, **else**, when the condition is not met, there is something else you want to do.\n",
    "\n",
    "For this we need to use the `if-else` statement sequence --\n",
    "\n",
    "\n",
    "#### if-else statement syntax\n",
    "\n",
    "```\n",
    "   [code before if statement]\n",
    "\n",
    "   if [condition]:\n",
    "      [code block]\n",
    "   else:\n",
    "      [code block]\n",
    "\n",
    "   [code after if statement]\n",
    "```"
   ]
  },
  {
   "cell_type": "code",
   "execution_count": null,
   "metadata": {},
   "outputs": [],
   "source": [
    "ERROR_MSG_AGE = '''Sorry, you're not old enough.\n",
    "    Please get your parent's permission.'''\n",
    "WELCOME_MSG = 'Welcome to my app!'\n",
    "\n",
    "age = input(\"How old are you?\\n>> \")\n",
    "age = int(age)\n",
    "\n",
    "if age < 13:\n",
    "    print(ERROR_MSG_AGE)\n",
    "else:\n",
    "    print(WELCOME_MSG)\n"
   ]
  },
  {
   "cell_type": "markdown",
   "metadata": {},
   "source": [
    "----\n",
    "### if-elif-else\n",
    "\n",
    "Sometimes your algorithm will have more than two branches.\n",
    "You will need to execute one block of code if some condition is True, another block of code if another condition is True, yet another if some other condition is True, etc.\n",
    "\n",
    "For this we need to use the `if-elif-else` statement sequence --\n",
    "\n",
    "\n",
    "#### if-elif-else statement syntax\n",
    "\n",
    "```\n",
    "   [code before if statement]\n",
    "\n",
    "   if [condition]:\n",
    "      [code block]\n",
    "   elif [condition]:     # optional elif blocks\n",
    "      [code block]\n",
    "   elif [condition]:\n",
    "      [code block]\n",
    "   else:                 # optional else block\n",
    "      [code block]\n",
    "\n",
    "   [code after if statement]\n",
    "```"
   ]
  },
  {
   "cell_type": "code",
   "execution_count": null,
   "metadata": {},
   "outputs": [],
   "source": [
    "ERROR_MSG_AGE = '''Sorry, you're not old enough.\n",
    "    Please get your parent's permission.'''\n",
    "WARNING_MSG_AGE = '''WARNING: This app has advanced mathematical concepts. Use at your own risk.'''\n",
    "WELCOME_MSG = 'Welcome to my app!'\n",
    "\n",
    "age = input(\"How old are you?\\n>> \")\n",
    "age = int(age)\n",
    "\n",
    "if age < 13:\n",
    "    print(ERROR_MSG_AGE)\n",
    "elif age < 15:\n",
    "    print(WARNING_MSG_AGE)\n",
    "else:\n",
    "    print(WELCOME_MSG)\n"
   ]
  },
  {
   "cell_type": "code",
   "execution_count": null,
   "metadata": {},
   "outputs": [],
   "source": [
    "ERROR_MSG_AGE = '''Sorry, you're not old enough.\n",
    "    Please get your parent's permission.'''\n",
    "WARNING_MSG_AGE = '''WARNING: This app has advanced mathematical concepts. Use at your own risk.'''\n",
    "WELCOME_MSG = 'Welcome to my app!'\n",
    "\n",
    "age = input(\"How old are you?\\n>> \")\n",
    "age = int(age)\n",
    "\n",
    "if age < 13:\n",
    "    print(ERROR_MSG_AGE)\n",
    "elif 13 <= age < 15:            # age<15 would've been sufficient\n",
    "    print(WARNING_MSG_AGE)\n",
    "else:\n",
    "    print(WELCOME_MSG)\n"
   ]
  },
  {
   "cell_type": "code",
   "execution_count": null,
   "metadata": {},
   "outputs": [],
   "source": [
    "points = input('How many points did you get on the test?\\n> ')\n",
    "points = int(points)\n",
    "\n",
    "# you can have as many elif blocks as you want\n",
    "print('Your grade is:')\n",
    "if points > 90:\n",
    "    print('A')\n",
    "elif points > 80:\n",
    "    print('B')\n",
    "elif points > 70:\n",
    "    print('C')\n",
    "elif points > 65:\n",
    "    print('D')\n",
    "else:\n",
    "    print('F')\n"
   ]
  },
  {
   "cell_type": "markdown",
   "metadata": {},
   "source": [
    "#### Blocks and indentation\n",
    "\n"
   ]
  },
  {
   "cell_type": "code",
   "execution_count": null,
   "metadata": {},
   "outputs": [],
   "source": [
    "age = input(\"How old are you?\\n>> \")\n",
    "age = int(age)\n",
    "\n",
    "# block of code starts after a colon :\n",
    "# each line in the same block of code must be indented the same way \n",
    "if age < 13:  \n",
    "    print(\"Sorry you're not old enough.\")\n",
    "else:\n",
    "    print('Welcome to my app!')\n",
    "    print('Did you know that 2+2 is 4?')\n",
    "\n",
    "    print('Goodbye!')"
   ]
  },
  {
   "cell_type": "code",
   "execution_count": null,
   "metadata": {},
   "outputs": [],
   "source": [
    "age = input(\"How old are you?\\n>> \")\n",
    "age = int(age)\n",
    "\n",
    "# block of code starts after a colon :\n",
    "# each line in the same block of code must be indented the same way \n",
    "if age < 13:  \n",
    "    print(\"Sorry you're not old enough.\")\n",
    "else:\n",
    "    print('Welcome to my app!')\n",
    "    print('Did you know that 2+2 is 4?')\n",
    "\n",
    "print('Goodbye!')"
   ]
  },
  {
   "cell_type": "markdown",
   "metadata": {},
   "source": [
    "### Boolean expressions\n",
    "\n",
    "- Just like `while` condition, `if` and `elif` conditions will be evaluated as a boolean expressions.\n",
    "- Boolean expression evaluates to either True or False\n",
    "\n",
    "```\n",
    "    # if the condition1 is True, execute code block 1\n",
    "    if [condition1] :\n",
    "        [ code block 1 ]\n",
    "    # else, if the condition2 is True, execute code block 2\n",
    "    elif [condition2] :\n",
    "        [ code block 2 ]\n",
    "```"
   ]
  },
  {
   "cell_type": "code",
   "execution_count": 2,
   "metadata": {},
   "outputs": [
    {
     "name": "stdout",
     "output_type": "stream",
     "text": [
      "hello\n"
     ]
    }
   ],
   "source": [
    "x = 13\n",
    "\n",
    "# x>10 is a boolean expression – it is either True or False\n",
    "if x > 10:\n",
    "    print(\"hello\")\n",
    "else:\n",
    "    print(\"goodbye\")"
   ]
  },
  {
   "cell_type": "code",
   "execution_count": null,
   "metadata": {},
   "outputs": [],
   "source": [
    "x = 13\n",
    "a = x > 10\n",
    "# what is the value of a?\n",
    "\n",
    "# what will this print?\n",
    "if a:\n",
    "    print(\"hello\")\n",
    "else:\n",
    "    print(\"goodbye\")"
   ]
  },
  {
   "cell_type": "code",
   "execution_count": null,
   "metadata": {},
   "outputs": [],
   "source": [
    "x = 13\n",
    "a = x < 10\n",
    "# what is the value of a?\n",
    "\n",
    "# what will this print?\n",
    "if a:\n",
    "    print(\"hello\")\n",
    "else:\n",
    "    print(\"goodbye\")"
   ]
  },
  {
   "cell_type": "code",
   "execution_count": null,
   "metadata": {},
   "outputs": [],
   "source": [
    "a = True\n",
    "\n",
    "# what will this print?\n",
    "if a:\n",
    "    print(\"hello\")\n",
    "else:\n",
    "    print(\"goodbye\")"
   ]
  },
  {
   "cell_type": "code",
   "execution_count": null,
   "metadata": {},
   "outputs": [],
   "source": [
    "# you can use the literals True or False as your condition\n",
    "#  (although this is not very useful)\n",
    "\n",
    "if True:\n",
    "    print(\"hello\")\n",
    "else:\n",
    "    print(\"goodbye\")"
   ]
  },
  {
   "cell_type": "code",
   "execution_count": null,
   "metadata": {},
   "outputs": [],
   "source": [
    "# if your condition is not a boolean expression,\n",
    "#   it will automatically, get converted to a boolean\n",
    "\n",
    "if 0:    # equivalent to  if bool(0):\n",
    "    print(\"hello\")\n",
    "else:\n",
    "    print(\"goodbye\")\n"
   ]
  },
  {
   "cell_type": "code",
   "execution_count": null,
   "metadata": {},
   "outputs": [],
   "source": [
    "#what do you think this will print?\n",
    "name, greeting = \"john\", \"\"\n",
    "\n",
    "if greeting:\n",
    "    print(f\"well, {greeting} right back at ya\")\n",
    "elif name:\n",
    "    print(f\"hi {name}!\")\n",
    "else:\n",
    "    print(\"hello.\")"
   ]
  },
  {
   "cell_type": "code",
   "execution_count": null,
   "metadata": {},
   "outputs": [],
   "source": [
    "x, y = 13, 10\n",
    "\n",
    "# what do you think each of these prints?\n",
    "print( x > y )\n",
    "print( x < y )\n",
    "print( x >= y )\n",
    "print( x <= y )\n",
    "print( x <= x )\n",
    "print( x == y )\n",
    "print( x != y )\n",
    "print( 10 < x < 20 )\n",
    "print( 10 <= x < 20 )"
   ]
  },
  {
   "cell_type": "markdown",
   "metadata": {},
   "source": [
    "----\n",
    "### and, or, not"
   ]
  },
  {
   "cell_type": "code",
   "execution_count": null,
   "metadata": {},
   "outputs": [],
   "source": [
    "# what do you think each of these prints?\n",
    "print( 2 > 5 )\n",
    "\n",
    "print( not (2 > 5) )\n",
    "\n",
    "\n",
    "# what about this?\n",
    "print( (not 2) > 5 )\n",
    "\n",
    "# what about this?\n",
    "print( not 2 > 5 )"
   ]
  },
  {
   "cell_type": "code",
   "execution_count": null,
   "metadata": {},
   "outputs": [],
   "source": [
    "x = 13\n",
    "\n",
    "# what do you think this prints?\n",
    "if x < 0 or x > 10:\n",
    "    print(\"hello\")\n",
    "else:\n",
    "    print(\"goodbye\")"
   ]
  },
  {
   "cell_type": "code",
   "execution_count": null,
   "metadata": {},
   "outputs": [],
   "source": [
    "x = -13\n",
    "\n",
    "# what do you think this prints?\n",
    "if x < 0 or x > 10:\n",
    "    print(\"hello\")\n",
    "else:\n",
    "    print(\"goodbye\")"
   ]
  },
  {
   "cell_type": "code",
   "execution_count": null,
   "metadata": {},
   "outputs": [],
   "source": [
    "x = 3\n",
    "\n",
    "# what do you think this prints?\n",
    "if x < 0 or x > 10:\n",
    "    print(\"hello\")\n",
    "else:\n",
    "    print(\"goodbye\")"
   ]
  },
  {
   "cell_type": "code",
   "execution_count": null,
   "metadata": {},
   "outputs": [],
   "source": [
    "name = \"john\"\n",
    "age = 17\n",
    "\n",
    "# what do you think this prints?\n",
    "if name and age > 13:\n",
    "    print(\"hello\")\n",
    "else:\n",
    "    print(\"goodbye\")"
   ]
  },
  {
   "cell_type": "code",
   "execution_count": null,
   "metadata": {},
   "outputs": [],
   "source": [
    "name = \"\"\n",
    "age = 17\n",
    "\n",
    "# what do you think this prints?\n",
    "if name and age > 13:\n",
    "    print(\"hello\")\n",
    "else:\n",
    "    print(\"goodbye\")\n"
   ]
  },
  {
   "cell_type": "code",
   "execution_count": null,
   "metadata": {},
   "outputs": [],
   "source": [
    "name = \"john\"\n",
    "age = 10\n",
    "\n",
    "# what do you think this prints?\n",
    "if name and age > 13:\n",
    "    print(\"hello\")\n",
    "else:\n",
    "    print(\"goodbye\")"
   ]
  },
  {
   "cell_type": "markdown",
   "metadata": {},
   "source": [
    "#### Truth table"
   ]
  },
  {
   "cell_type": "code",
   "execution_count": 33,
   "metadata": {},
   "outputs": [
    {
     "name": "stdout",
     "output_type": "stream",
     "text": [
      "            AND          |           OR           |       NOT \n",
      "   True and True = True  |  True or True = True   | not True = False \n",
      "  True and False = False |  True or False = True  | not False = True \n",
      "  False and True = False |  False or True = True  |\n",
      " False and False = False | False or False = False |\n"
     ]
    }
   ],
   "source": [
    "print(\"            AND          |           OR           |       NOT \")\n",
    "print(f\"   {True and True = }  |  {True or True = }   | {not True = } \")\n",
    "print(f\"  {True and False = } |  {True or False = }  | {not False = } \")\n",
    "print(f\"  {False and True = } |  {False or True = }  |\")\n",
    "print(f\" {False and False = } | {False or False = } |\")\n"
   ]
  },
  {
   "cell_type": "markdown",
   "metadata": {},
   "source": [
    "----\n",
    "### Nested code blocks"
   ]
  },
  {
   "cell_type": "markdown",
   "metadata": {},
   "source": [
    "You can have one if statement inside another, inside another, etc..."
   ]
  },
  {
   "cell_type": "code",
   "execution_count": null,
   "metadata": {},
   "outputs": [],
   "source": [
    "\n",
    "age = int( input(\"How old are you?\\n>> \") )\n",
    "\n",
    "if age < 13:\n",
    "    print(\"Sorry you're not old enough.\")\n",
    "    confirm = input('Is a parents around?')\n",
    "    if confirm == 'yes':\n",
    "        print(\"Please have your parent answer the following.\")\n",
    "        confirm2 = input(\"Are you the parent?\")\n",
    "        if confirm2  == 'yes':\n",
    "            confirm3 = input(\"Do you give your child permission?\")\n",
    "            if confirm3 == 'yes':\n",
    "                print(\"Thanks for letting your kid play this amazing game!\")\n"
   ]
  },
  {
   "cell_type": "markdown",
   "metadata": {},
   "source": [
    "You can have `if-else` blocks inside other `if-then` blocks..."
   ]
  },
  {
   "cell_type": "code",
   "execution_count": null,
   "metadata": {},
   "outputs": [],
   "source": [
    "age = int( input(\"How old are you?\\n>> \") )\n",
    "\n",
    "if age < 13:\n",
    "    print(\"Sorry you're not old enough.\")\n",
    "    confirm = input('Is a parents around?')\n",
    "    if confirm == 'yes':\n",
    "        print(\"Please have your parent answer the following.\")\n",
    "        # add code to ask the parent\n",
    "    else:\n",
    "        print('Welcome to my App!')\n"
   ]
  },
  {
   "cell_type": "markdown",
   "metadata": {},
   "source": [
    "However, you have to be careful about indentation --\n",
    "\n",
    "In the code above `Welcome to my App!` will print even if the child is under 13, as long as they say their parent is not around.\n",
    "\n",
    "How would you change this code to fix it, so that `Welcome to my App!` message only prints if the user is over 13?"
   ]
  },
  {
   "cell_type": "code",
   "execution_count": null,
   "metadata": {},
   "outputs": [],
   "source": [
    "age = int( input(\"How old are you?\\n>> \") )\n",
    "\n",
    "if age < 13:\n",
    "    print(\"Sorry you're not old enough.\")\n",
    "    confirm = input('Is a parents around?')\n",
    "    if confirm == 'yes':\n",
    "        print(\"Please have your parent answer the following.\")\n",
    "        # add code to ask the parent\n",
    "else:\n",
    "    print('Welcome to my App!')\n"
   ]
  },
  {
   "cell_type": "markdown",
   "metadata": {},
   "source": [
    "We can modify this code to exit in case parent is not around --"
   ]
  },
  {
   "cell_type": "code",
   "execution_count": null,
   "metadata": {},
   "outputs": [],
   "source": [
    "age = int( input(\"How old are you?\\n>> \") )\n",
    "\n",
    "if age < 13:\n",
    "    print(\"Sorry you're not old enough.\")\n",
    "    confirm = input('Is a parents around?')\n",
    "    if confirm == 'yes':\n",
    "        print(\"Please have your parent answer the following.\")\n",
    "        # add code to ask the parent\n",
    "    else:\n",
    "        print(\"Sorry, you'll need your parent.\")\n",
    "        exit()\n",
    "else:\n",
    "    print('Welcome to my App!')\n"
   ]
  },
  {
   "cell_type": "markdown",
   "metadata": {},
   "source": [
    "#### Nested while loops"
   ]
  },
  {
   "cell_type": "code",
   "execution_count": null,
   "metadata": {},
   "outputs": [],
   "source": [
    "# what does this print?\n",
    "x = 1\n",
    "while x <= 3:\n",
    "    y = 1\n",
    "    while y <= 3:\n",
    "        print(f\"{x * y = }\")\n",
    "        y+=1\n",
    "    x+=1\n"
   ]
  },
  {
   "cell_type": "markdown",
   "metadata": {},
   "source": [
    "#### Mixing nested if and while code blocks"
   ]
  },
  {
   "cell_type": "markdown",
   "metadata": {},
   "source": [
    "`if-elif-else` statements and loops are the basis of writing algorithms.\n",
    "\n",
    "When you start thinking about what your application should do, you can think of it in terms of `if` statements and loops."
   ]
  },
  {
   "cell_type": "code",
   "execution_count": null,
   "metadata": {},
   "outputs": [],
   "source": [
    "MIN_NUMBER = 50\n",
    "\n",
    "# what do you think this code does?\n",
    "while True:\n",
    "    userResponse = input('Please enter a number: ')\n",
    "    while not userResponse.isdecimal():\n",
    "        print('You did not enter a valid number.')\n",
    "        userResponse = input('Please try again: ')\n",
    "    userResponse = int(userResponse)\n",
    "    if userResponse < MIN_NUMBER:\n",
    "        print('Your number is too low.')\n",
    "    else:\n",
    "        print('This is a good number. I like it.')\n"
   ]
  },
  {
   "cell_type": "markdown",
   "metadata": {},
   "source": [
    "#### using `break` to get out of a loop\n",
    "\n",
    "The code above is an infinite loop, because the `while` condition is `True`.\n",
    "\n",
    "However, you can add a `break` statement somewhere inside the while loop to exit the loop anytime.\n",
    "\n",
    "If the `break` statement is inside an `if` statement, the `if` condition essentially serves as the condition for ending the loop."
   ]
  },
  {
   "cell_type": "code",
   "execution_count": null,
   "metadata": {},
   "outputs": [],
   "source": [
    "MIN_NUMBER = 50\n",
    "\n",
    "# this is no longer an infinite loop\n",
    "while True:\n",
    "    userResponse = input('Please enter a number: ')\n",
    "    while not userResponse.isdecimal():\n",
    "        print('You did not enter a valid number.')\n",
    "        userResponse = input('Please try again: ')\n",
    "    userResponse = int(userResponse)\n",
    "    if userResponse < MIN_NUMBER:\n",
    "        print('Your number is too low.')\n",
    "    else:\n",
    "        print('This is a good number. I like it.')\n",
    "        break   # break out of the loop <===\n",
    "print('Goodbye.')"
   ]
  },
  {
   "cell_type": "markdown",
   "metadata": {},
   "source": [
    "#### Using `continue` to skip code in a loop\n",
    "\n",
    "There is another interesting way to control loops, using the `continue` statement.\n",
    "\n",
    "When Python hits the `continue` statement, it will skip the rest of the code in the loop, and will go to restart the loop."
   ]
  },
  {
   "cell_type": "code",
   "execution_count": null,
   "metadata": {},
   "outputs": [],
   "source": [
    "MIN_NUMBER = 50\n",
    "\n",
    "# what do you think this code does?\n",
    "while True:\n",
    "    userResponse = input('Please enter a number: ')\n",
    "    if not userResponse.isdecimal():\n",
    "        print('You did not enter a valid number.')\n",
    "        continue  # this will skip all code below <===\n",
    "    userResponse = int(userResponse)\n",
    "    if userResponse < MIN_NUMBER:\n",
    "        print('Your number is too low.')\n",
    "    else:\n",
    "        print('This is a good number. I like it.')\n",
    "        break\n",
    "print('Goodbye.')\n"
   ]
  },
  {
   "cell_type": "markdown",
   "metadata": {},
   "source": [
    "----\n",
    "### Review"
   ]
  },
  {
   "cell_type": "markdown",
   "metadata": {},
   "source": [
    "if-elif-else"
   ]
  },
  {
   "cell_type": "code",
   "execution_count": null,
   "metadata": {},
   "outputs": [],
   "source": [
    "# what is the output of this code?\n",
    "x = 7\n",
    "\n",
    "if x > 9:\n",
    "    print('many many')\n",
    "elif x > 5:\n",
    "    print('many')\n",
    "elif x > 1:\n",
    "    print('a few')\n",
    "else:\n",
    "    print('almost none')\n"
   ]
  },
  {
   "cell_type": "code",
   "execution_count": null,
   "metadata": {},
   "outputs": [],
   "source": [
    "# what is the output of this code?\n",
    "x = 7\n",
    "\n",
    "if x > 9:\n",
    "    print('many many')\n",
    "if x > 5:\n",
    "    print('many')\n",
    "if x > 1:\n",
    "    print('a few')\n",
    "else:\n",
    "    print('almost none')\n"
   ]
  },
  {
   "cell_type": "markdown",
   "metadata": {},
   "source": [
    "OR"
   ]
  },
  {
   "cell_type": "code",
   "execution_count": null,
   "metadata": {},
   "outputs": [],
   "source": [
    "x = 13\n",
    "\n",
    "# what do you think this prints?\n",
    "if x < 0 or x > 10:\n",
    "    print(\"hello\")\n",
    "else:\n",
    "    print(\"goodbye\")\n"
   ]
  },
  {
   "cell_type": "code",
   "execution_count": null,
   "metadata": {},
   "outputs": [],
   "source": [
    "x = -13\n",
    "\n",
    "# what do you think this prints?\n",
    "if x < 0 or x > 10:\n",
    "    print(\"hello\")\n",
    "else:\n",
    "    print(\"goodbye\")\n"
   ]
  },
  {
   "cell_type": "code",
   "execution_count": null,
   "metadata": {},
   "outputs": [],
   "source": [
    "x = 3\n",
    "\n",
    "# what do you think this prints?\n",
    "if x < 0 or x > 10:\n",
    "    print(\"hello\")\n",
    "else:\n",
    "    print(\"goodbye\")\n"
   ]
  },
  {
   "cell_type": "markdown",
   "metadata": {},
   "source": [
    "NOT"
   ]
  },
  {
   "cell_type": "code",
   "execution_count": null,
   "metadata": {},
   "outputs": [],
   "source": [
    "x = 3\n",
    "\n",
    "# what do you think this prints?\n",
    "if not ( x < 0 or x > 10 ):\n",
    "    print(\"hello\")\n",
    "else:\n",
    "    print(\"goodbye\")\n"
   ]
  },
  {
   "cell_type": "markdown",
   "metadata": {},
   "source": [
    "AND"
   ]
  },
  {
   "cell_type": "code",
   "execution_count": null,
   "metadata": {},
   "outputs": [],
   "source": [
    "name = \"john\"\n",
    "age = 17\n",
    "\n",
    "# what do you think this prints?\n",
    "if name and age > 13:\n",
    "    print(\"hello\")\n",
    "else:\n",
    "    print(\"goodbye\")\n"
   ]
  },
  {
   "cell_type": "code",
   "execution_count": null,
   "metadata": {},
   "outputs": [],
   "source": [
    "name = \"\"\n",
    "age = 17\n",
    "\n",
    "# what do you think this prints?\n",
    "if name and age > 13:\n",
    "    print(\"hello\")\n",
    "else:\n",
    "    print(\"goodbye\")\n"
   ]
  },
  {
   "cell_type": "code",
   "execution_count": null,
   "metadata": {},
   "outputs": [],
   "source": [
    "name = \"john\"\n",
    "age = 10\n",
    "\n",
    "# what do you think this prints?\n",
    "if name and age > 13:\n",
    "    print(\"hello\")\n",
    "else:\n",
    "    print(\"goodbye\")\n"
   ]
  },
  {
   "cell_type": "markdown",
   "metadata": {},
   "source": [
    "NOT"
   ]
  },
  {
   "cell_type": "code",
   "execution_count": null,
   "metadata": {},
   "outputs": [],
   "source": [
    "name = \"john\"\n",
    "age = 10\n",
    "\n",
    "# what do you think this prints?\n",
    "if not ( name and age > 13 ):\n",
    "    print(\"hello\")\n",
    "else:\n",
    "    print(\"goodbye\")\n"
   ]
  },
  {
   "cell_type": "markdown",
   "metadata": {
    "id": "b1xXPcazEVao"
   },
   "source": [
    "---\n",
    "<small>© 2024 V. D. Veksler. All rights reserved.</small>"
   ]
  }
 ],
 "metadata": {
  "kernelspec": {
   "display_name": "Python 3.10.2 64-bit",
   "language": "python",
   "name": "python3"
  },
  "language_info": {
   "codemirror_mode": {
    "name": "ipython",
    "version": 3
   },
   "file_extension": ".py",
   "mimetype": "text/x-python",
   "name": "python",
   "nbconvert_exporter": "python",
   "pygments_lexer": "ipython3",
   "version": "3.10.2"
  },
  "orig_nbformat": 4,
  "vscode": {
   "interpreter": {
    "hash": "369f2c481f4da34e4445cda3fffd2e751bd1c4d706f27375911949ba6bb62e1c"
   }
  }
 },
 "nbformat": 4,
 "nbformat_minor": 2
}
